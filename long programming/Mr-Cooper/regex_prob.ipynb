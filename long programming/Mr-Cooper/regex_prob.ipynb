{
 "cells": [
  {
   "cell_type": "code",
   "execution_count": null,
   "metadata": {},
   "outputs": [
    {
     "name": "stdout",
     "output_type": "stream",
     "text": [
      "False\n"
     ]
    }
   ],
   "source": [
    "def is_valid(str):\n",
    "    compare={'[':']','(':')'}\n",
    "    string=[]\n",
    "    for char in str:\n",
    "        if char=='[' or char=='(':\n",
    "            string.append(char)\n",
    "        elif char==')':\n",
    "            if string[-1]=='(':\n",
    "                string.pop()\n",
    "            else:\n",
    "                return False\n",
    "        elif char==']':\n",
    "            if string[-1]=='[':\n",
    "                string.pop()\n",
    "            else:\n",
    "                return False\n",
    "    if not string :return True \n",
    "\n",
    "a = \"[()][()()]\"\n",
    "\n",
    "# Call the function and print result\n",
    "result = is_valid(a)\n",
    "print(result)\n"
   ]
  },
  {
   "cell_type": "code",
   "execution_count": 15,
   "metadata": {},
   "outputs": [
    {
     "ename": "KeyError",
     "evalue": "']'",
     "output_type": "error",
     "traceback": [
      "\u001b[1;31m---------------------------------------------------------------------------\u001b[0m",
      "\u001b[1;31mKeyError\u001b[0m                                  Traceback (most recent call last)",
      "Cell \u001b[1;32mIn[15], line 15\u001b[0m\n\u001b[0;32m     12\u001b[0m             \u001b[38;5;28;01mreturn\u001b[39;00m \u001b[38;5;28;01mFalse\u001b[39;00m\n\u001b[0;32m     13\u001b[0m     \u001b[38;5;28;01mreturn\u001b[39;00m \u001b[38;5;28;01mTrue\u001b[39;00m\n\u001b[1;32m---> 15\u001b[0m \u001b[38;5;28mprint\u001b[39m(\u001b[43mwithdict\u001b[49m\u001b[43m(\u001b[49m\u001b[43ma\u001b[49m\u001b[43m)\u001b[49m)\n",
      "Cell \u001b[1;32mIn[15], line 9\u001b[0m, in \u001b[0;36mwithdict\u001b[1;34m(str)\u001b[0m\n\u001b[0;32m      7\u001b[0m \u001b[38;5;28;01melif\u001b[39;00m char\u001b[38;5;241m==\u001b[39m\u001b[38;5;124m'\u001b[39m\u001b[38;5;124m)\u001b[39m\u001b[38;5;124m'\u001b[39m \u001b[38;5;129;01mand\u001b[39;00m string[\u001b[38;5;241m-\u001b[39m\u001b[38;5;241m1\u001b[39m]\u001b[38;5;241m==\u001b[39m\u001b[38;5;28mdict\u001b[39m[char]:\n\u001b[0;32m      8\u001b[0m     string\u001b[38;5;241m.\u001b[39mpop()\n\u001b[1;32m----> 9\u001b[0m \u001b[38;5;28;01melif\u001b[39;00m char\u001b[38;5;241m==\u001b[39m\u001b[38;5;124m'\u001b[39m\u001b[38;5;124m]\u001b[39m\u001b[38;5;124m'\u001b[39m \u001b[38;5;129;01mand\u001b[39;00m string[\u001b[38;5;241m-\u001b[39m\u001b[38;5;241m1\u001b[39m]\u001b[38;5;241m==\u001b[39m\u001b[38;5;28;43mdict\u001b[39;49m\u001b[43m[\u001b[49m\u001b[43mchar\u001b[49m\u001b[43m]\u001b[49m:\n\u001b[0;32m     10\u001b[0m     string\u001b[38;5;241m.\u001b[39mpop()\n\u001b[0;32m     11\u001b[0m \u001b[38;5;28;01melse\u001b[39;00m:\n",
      "\u001b[1;31mKeyError\u001b[0m: ']'"
     ]
    }
   ],
   "source": [
    "def withdict(str):\n",
    "    string=[]\n",
    "    dict={'[':']','(':')'}\n",
    "    for char in str:\n",
    "        if char in '[(':\n",
    "            string.append(char)\n",
    "        elif char==')' and string[-1]==dict[char]:\n",
    "            string.pop()\n",
    "        elif char==']' and string[-1]==dict[char]:\n",
    "            string.pop()\n",
    "        else:\n",
    "            return False\n",
    "    return True\n",
    "\n",
    "print(withdict(a))"
   ]
  }
 ],
 "metadata": {
  "kernelspec": {
   "display_name": "Python 3",
   "language": "python",
   "name": "python3"
  },
  "language_info": {
   "codemirror_mode": {
    "name": "ipython",
    "version": 3
   },
   "file_extension": ".py",
   "mimetype": "text/x-python",
   "name": "python",
   "nbconvert_exporter": "python",
   "pygments_lexer": "ipython3",
   "version": "3.11.4"
  }
 },
 "nbformat": 4,
 "nbformat_minor": 2
}
